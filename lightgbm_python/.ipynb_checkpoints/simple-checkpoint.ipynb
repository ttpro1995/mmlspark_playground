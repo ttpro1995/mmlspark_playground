{
 "cells": [
  {
   "cell_type": "code",
   "execution_count": 2,
   "metadata": {},
   "outputs": [],
   "source": [
    "import numpy as np\n",
    "import lightgbm as lgb\n",
    "import pandas as pd\n",
    "import os\n",
    "from sklearn.metrics import mean_squared_error"
   ]
  },
  {
   "cell_type": "code",
   "execution_count": 9,
   "metadata": {},
   "outputs": [],
   "source": [
    "parent_folder=\"../data\"\n",
    "reg_train=os.path.join(parent_folder, \"regression.train.txt\")\n",
    "reg_test=os.path.join(parent_folder,\"regression.test.txt\")\n"
   ]
  },
  {
   "cell_type": "code",
   "execution_count": 10,
   "metadata": {},
   "outputs": [
    {
     "data": {
      "text/plain": [
       "['regression.test.txt', 'regression.train.txt']"
      ]
     },
     "execution_count": 10,
     "metadata": {},
     "output_type": "execute_result"
    }
   ],
   "source": [
    "os.listdir(\"../data/\")"
   ]
  },
  {
   "cell_type": "code",
   "execution_count": null,
   "metadata": {},
   "outputs": [],
   "source": []
  },
  {
   "cell_type": "code",
   "execution_count": 11,
   "metadata": {},
   "outputs": [],
   "source": [
    "df_train = pd.read_csv(reg_train, header=None, sep='\\t')\n",
    "df_test = pd.read_csv(reg_test, header=None, sep='\\t')\n",
    "\n",
    "y_train = df_train[0]\n",
    "y_test = df_test[0]\n",
    "X_train = df_train.drop(0, axis=1)\n",
    "X_test = df_test.drop(0, axis=1)"
   ]
  },
  {
   "cell_type": "code",
   "execution_count": 12,
   "metadata": {},
   "outputs": [],
   "source": [
    "# create dataset for lightgbm\n",
    "lgb_train = lgb.Dataset(X_train, y_train)\n",
    "lgb_eval = lgb.Dataset(X_test, y_test, reference=lgb_train)\n"
   ]
  },
  {
   "cell_type": "code",
   "execution_count": 13,
   "metadata": {},
   "outputs": [],
   "source": [
    "params = {\n",
    "    'boosting_type': 'gbdt',\n",
    "    'objective': 'regression',\n",
    "    'metric': {'l2', 'l1'},\n",
    "    'num_leaves': 31,\n",
    "    'learning_rate': 0.05,\n",
    "    'feature_fraction': 0.9,\n",
    "    'bagging_fraction': 0.8,\n",
    "    'bagging_freq': 5,\n",
    "    'verbose': 0\n",
    "}"
   ]
  },
  {
   "cell_type": "code",
   "execution_count": 14,
   "metadata": {},
   "outputs": [
    {
     "name": "stdout",
     "output_type": "stream",
     "text": [
      "Starting training...\n",
      "[1]\tvalid_0's l2: 0.243898\tvalid_0's l1: 0.492841\n",
      "Training until validation scores don't improve for 5 rounds\n",
      "[2]\tvalid_0's l2: 0.240605\tvalid_0's l1: 0.489327\n",
      "[3]\tvalid_0's l2: 0.236472\tvalid_0's l1: 0.484931\n",
      "[4]\tvalid_0's l2: 0.232586\tvalid_0's l1: 0.480567\n",
      "[5]\tvalid_0's l2: 0.22865\tvalid_0's l1: 0.475965\n",
      "[6]\tvalid_0's l2: 0.226187\tvalid_0's l1: 0.472861\n",
      "[7]\tvalid_0's l2: 0.223738\tvalid_0's l1: 0.469847\n",
      "[8]\tvalid_0's l2: 0.221012\tvalid_0's l1: 0.466258\n",
      "[9]\tvalid_0's l2: 0.218429\tvalid_0's l1: 0.462751\n",
      "[10]\tvalid_0's l2: 0.215505\tvalid_0's l1: 0.458755\n",
      "[11]\tvalid_0's l2: 0.213027\tvalid_0's l1: 0.455252\n",
      "[12]\tvalid_0's l2: 0.210809\tvalid_0's l1: 0.452051\n",
      "[13]\tvalid_0's l2: 0.208612\tvalid_0's l1: 0.448764\n",
      "[14]\tvalid_0's l2: 0.207468\tvalid_0's l1: 0.446667\n",
      "[15]\tvalid_0's l2: 0.206009\tvalid_0's l1: 0.444211\n",
      "[16]\tvalid_0's l2: 0.20465\tvalid_0's l1: 0.44186\n",
      "[17]\tvalid_0's l2: 0.202489\tvalid_0's l1: 0.438508\n",
      "[18]\tvalid_0's l2: 0.200668\tvalid_0's l1: 0.435919\n",
      "[19]\tvalid_0's l2: 0.19925\tvalid_0's l1: 0.433348\n",
      "[20]\tvalid_0's l2: 0.198136\tvalid_0's l1: 0.431211\n",
      "Did not meet early stopping. Best iteration is:\n",
      "[20]\tvalid_0's l2: 0.198136\tvalid_0's l1: 0.431211\n",
      "Saving model...\n",
      "Starting predicting...\n",
      "The rmse of prediction is: 0.44512434910807497\n"
     ]
    }
   ],
   "source": [
    "print('Starting training...')\n",
    "# train\n",
    "gbm = lgb.train(params,\n",
    "                lgb_train,\n",
    "                num_boost_round=20,\n",
    "                valid_sets=lgb_eval,\n",
    "                early_stopping_rounds=5)\n",
    "\n",
    "print('Saving model...')\n",
    "# save model to file\n",
    "gbm.save_model('simple_example_model.txt')\n",
    "\n",
    "print('Starting predicting...')\n",
    "# predict\n",
    "y_pred = gbm.predict(X_test, num_iteration=gbm.best_iteration)\n",
    "# eval\n",
    "print('The rmse of prediction is:', mean_squared_error(y_test, y_pred) ** 0.5)"
   ]
  },
  {
   "cell_type": "code",
   "execution_count": null,
   "metadata": {},
   "outputs": [],
   "source": []
  },
  {
   "cell_type": "code",
   "execution_count": null,
   "metadata": {},
   "outputs": [],
   "source": []
  }
 ],
 "metadata": {
  "kernelspec": {
   "display_name": "Python 3",
   "language": "python",
   "name": "python3"
  },
  "language_info": {
   "codemirror_mode": {
    "name": "ipython",
    "version": 3
   },
   "file_extension": ".py",
   "mimetype": "text/x-python",
   "name": "python",
   "nbconvert_exporter": "python",
   "pygments_lexer": "ipython3",
   "version": "3.7.5"
  }
 },
 "nbformat": 4,
 "nbformat_minor": 4
}
